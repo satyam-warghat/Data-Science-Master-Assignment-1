{
 "cells": [
  {
   "cell_type": "raw",
   "id": "aaec6737-649b-479a-8db3-4f0353c1ce81",
   "metadata": {},
   "source": [
    "1. Explain with an example each when to use a for loop and a while loop."
   ]
  },
  {
   "cell_type": "raw",
   "id": "19fa5d87-b4e4-4e63-b2c7-7fc4ad0ce82c",
   "metadata": {},
   "source": [
    "Ans: We use for loop when you know the number of iteration you have to perform beforehand\n",
    "or if we want to execute a certain block of code fixed number of time or if we want to iterate over a sequence\n",
    "\n",
    "We use while loop when the number of iterations is not known beforehand or we want to execute a certain block of code till a specific condition is met\n"
   ]
  },
  {
   "cell_type": "code",
   "execution_count": 2,
   "id": "65c646b8-432c-4541-b380-931adfa86210",
   "metadata": {},
   "outputs": [
    {
     "name": "stdout",
     "output_type": "stream",
     "text": [
      "1\n",
      "2\n",
      "3\n",
      "4\n"
     ]
    }
   ],
   "source": [
    "# Example of for loop: to print element of list lst\n",
    "lst = [1,2,3,4]\n",
    "for x in lst:\n",
    "    print(x)\n",
    "    "
   ]
  },
  {
   "cell_type": "code",
   "execution_count": 3,
   "id": "3d7fef14-7f05-4325-a0e6-bd2c910c39b0",
   "metadata": {},
   "outputs": [
    {
     "name": "stdin",
     "output_type": "stream",
     "text": [
      "Enter the number  2\n"
     ]
    },
    {
     "name": "stdout",
     "output_type": "stream",
     "text": [
      "Number is even number \n"
     ]
    },
    {
     "name": "stdin",
     "output_type": "stream",
     "text": [
      "Enter the number  2\n"
     ]
    },
    {
     "name": "stdout",
     "output_type": "stream",
     "text": [
      "Number is even number \n"
     ]
    },
    {
     "name": "stdin",
     "output_type": "stream",
     "text": [
      "Enter the number  2\n"
     ]
    },
    {
     "name": "stdout",
     "output_type": "stream",
     "text": [
      "Number is even number \n"
     ]
    },
    {
     "name": "stdin",
     "output_type": "stream",
     "text": [
      "Enter the number  2\n"
     ]
    },
    {
     "name": "stdout",
     "output_type": "stream",
     "text": [
      "Number is even number \n"
     ]
    },
    {
     "name": "stdin",
     "output_type": "stream",
     "text": [
      "Enter the number  6\n"
     ]
    },
    {
     "name": "stdout",
     "output_type": "stream",
     "text": [
      "Number is even number \n"
     ]
    },
    {
     "name": "stdin",
     "output_type": "stream",
     "text": [
      "Enter the number  5\n"
     ]
    }
   ],
   "source": [
    "# Example of while loop to print \"Number is even \" until user enter odd number \n",
    "num = int(input(\"Enter the number \"))\n",
    "while num %2 == 0:\n",
    "    print(\"Number is even number \")\n",
    "    num = int(input(\"Enter the number \"))"
   ]
  },
  {
   "cell_type": "raw",
   "id": "e9641945-94ab-4857-b451-ee1f453cd7ce",
   "metadata": {},
   "source": [
    "Q2. Write a python program to print the sum and product of the first 10 natural numbers using for\n",
    "and while loop."
   ]
  },
  {
   "cell_type": "code",
   "execution_count": 4,
   "id": "2b7f0138-5497-4abb-8c83-7bb72dfff0d3",
   "metadata": {},
   "outputs": [
    {
     "name": "stdout",
     "output_type": "stream",
     "text": [
      "55\n"
     ]
    }
   ],
   "source": [
    "# Using for loop\n",
    "sum = 0\n",
    "for i in range(1,11,1):\n",
    "    sum = sum + i\n",
    "print(sum)"
   ]
  },
  {
   "cell_type": "code",
   "execution_count": 5,
   "id": "0d52547b-1928-4cd4-b25a-977c47abb7fb",
   "metadata": {},
   "outputs": [
    {
     "name": "stdout",
     "output_type": "stream",
     "text": [
      "55\n"
     ]
    }
   ],
   "source": [
    "# Using while loop\n",
    "sum = 0\n",
    "i = 1\n",
    "while i <= 10 :\n",
    "    sum = sum + i\n",
    "    i = i+1\n",
    "print(sum)"
   ]
  },
  {
   "cell_type": "raw",
   "id": "82190450-6948-4e8f-b17d-c9eac0886cd1",
   "metadata": {},
   "source": [
    "Q3. Create a python program to compute the electricity bill for a household.\n",
    "The per-unit charges in rupees are as follows: For the first 100 units, the user will be charged Rs. 4.5 per\n",
    "unit, for the next 100 units, the user will be charged Rs. 6 per unit, and for the next 100 units, the user will\n",
    "be charged Rs. 10 per unit, After 300 units and above the user will be charged Rs. 20 per unit.\n",
    "You are required to take the units of electricity consumed in a month from the user as input.\n",
    "Your program must pass this test case: when the unit of electricity consumed by the user in a month is\n",
    "310, the total electricity bill should be 2250."
   ]
  },
  {
   "cell_type": "code",
   "execution_count": 6,
   "id": "925b1dad-25f0-4207-8274-a5e95223b6fe",
   "metadata": {},
   "outputs": [
    {
     "name": "stdin",
     "output_type": "stream",
     "text": [
      "Enter the units :  310\n"
     ]
    },
    {
     "name": "stdout",
     "output_type": "stream",
     "text": [
      "2250\n"
     ]
    }
   ],
   "source": [
    "units = int(input(\"Enter the units : \"))\n",
    "if units <= 100:\n",
    "    bill = 4.5 * units\n",
    "elif units <=200:\n",
    "    bill = 100 * 4.5 + (units-100) * 6\n",
    "elif units <= 300:\n",
    "    bill = 100 * 4.5 + 100 * 6 + (units - 200) * 10\n",
    "else:\n",
    "    bill = 100 * 4.5 + 100*6 + 100 * 10 + (units-300)*20\n",
    "    \n",
    "print(int(bill))"
   ]
  },
  {
   "cell_type": "raw",
   "id": "44b56886-a901-4859-ac04-fde9dc8ea259",
   "metadata": {},
   "source": [
    "Q4. Create a list of numbers from 1 to 100. Use for loop and while loop to calculate the cube of each\n",
    "number and if the cube of that number is divisible by 4 or 5 then append that number in a list and print\n",
    "that list."
   ]
  },
  {
   "cell_type": "code",
   "execution_count": 8,
   "id": "7ffd39c3-4576-4eb1-b466-a6455f09a9db",
   "metadata": {},
   "outputs": [
    {
     "name": "stdout",
     "output_type": "stream",
     "text": [
      "[2, 4, 5, 6, 8, 10, 12, 14, 15, 16, 18, 20, 22, 24, 25, 26, 28, 30, 32, 34, 35, 36, 38, 40, 42, 44, 45, 46, 48, 50, 52, 54, 55, 56, 58, 60, 62, 64, 65, 66, 68, 70, 72, 74, 75, 76, 78, 80, 82, 84, 85, 86, 88, 90, 92, 94, 95, 96, 98, 100]\n"
     ]
    }
   ],
   "source": [
    "#Using for loop\n",
    "number_lst = list(range(1,101))\n",
    "append_cube = []\n",
    "for i in number_lst:\n",
    "    if (i*i*i)%4==0 or (i*i*i)%5==0:\n",
    "        append_cube.append(i)\n",
    "print(append_cube)"
   ]
  },
  {
   "cell_type": "code",
   "execution_count": 10,
   "id": "8286ee4f-798e-45c6-8e6a-15f43934e0fb",
   "metadata": {},
   "outputs": [
    {
     "name": "stdout",
     "output_type": "stream",
     "text": [
      "[2, 4, 5, 6, 8, 10, 12, 14, 15, 16, 18, 20, 22, 24, 25, 26, 28, 30, 32, 34, 35, 36, 38, 40, 42, 44, 45, 46, 48, 50, 52, 54, 55, 56, 58, 60, 62, 64, 65, 66, 68, 70, 72, 74, 75, 76, 78, 80, 82, 84, 85, 86, 88, 90, 92, 94, 95, 96, 98, 100]\n"
     ]
    }
   ],
   "source": [
    "# Using While loop\n",
    "i = 1\n",
    "while_cube = []\n",
    "while i <= len(number_lst):\n",
    "    num = number_lst[i-1]\n",
    "    if (num*num*num)%4 == 0 or (num*num*num)%5==0:\n",
    "        while_cube.append(num)\n",
    "    i = i+1\n",
    "print(while_cube)"
   ]
  },
  {
   "cell_type": "raw",
   "id": "32c1c441-a793-4bb3-943f-98db235fc991",
   "metadata": {},
   "source": [
    "Q5. Write a program to filter count vowels in the below-given string.\n",
    "string = \"I want to become a data scientist\""
   ]
  },
  {
   "cell_type": "code",
   "execution_count": 11,
   "id": "37d28c50-6179-406b-ae25-810f49b8f346",
   "metadata": {},
   "outputs": [
    {
     "name": "stdout",
     "output_type": "stream",
     "text": [
      "The total number of vowels in the string I want to become a data scientist is 13\n"
     ]
    }
   ],
   "source": [
    "string = \"I want to become a data scientist\"\n",
    "count = 1\n",
    "vowels = ['a','e','i','o','u']\n",
    "for i in string.lower():\n",
    "    if i in vowels:\n",
    "        count = count + 1\n",
    "print(\"The total number of vowels in the string {} is {}\".format(string , count))"
   ]
  },
  {
   "cell_type": "code",
   "execution_count": null,
   "id": "d95a9a3d-c57f-4dce-8cbf-e46b3d6e612a",
   "metadata": {},
   "outputs": [],
   "source": []
  }
 ],
 "metadata": {
  "kernelspec": {
   "display_name": "Python 3 (ipykernel)",
   "language": "python",
   "name": "python3"
  },
  "language_info": {
   "codemirror_mode": {
    "name": "ipython",
    "version": 3
   },
   "file_extension": ".py",
   "mimetype": "text/x-python",
   "name": "python",
   "nbconvert_exporter": "python",
   "pygments_lexer": "ipython3",
   "version": "3.10.8"
  }
 },
 "nbformat": 4,
 "nbformat_minor": 5
}
